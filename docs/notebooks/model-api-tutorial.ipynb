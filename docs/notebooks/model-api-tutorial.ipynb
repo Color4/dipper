{
 "cells": [
  {
   "cell_type": "markdown",
   "metadata": {
    "deletable": true,
    "editable": true
   },
   "source": [
    "##### Dipper model API tutorial\n",
    "\n",
    "A quick tutorial on working with the dipper models API.  As input we have a dataset with gene phenotype associations, as well as a reference, evidence code, and relation.\n",
    "\n",
    "Note to run this notebook you must first install dipper in your virtualenv:\n",
    "python3 setup.py install"
   ]
  },
  {
   "cell_type": "code",
   "execution_count": 28,
   "metadata": {
    "collapsed": false,
    "deletable": true,
    "editable": true
   },
   "outputs": [
    {
     "name": "stdout",
     "output_type": "stream",
     "text": [
      "<http://www.ncbi.nlm.nih.gov/clinvar/variation/254143> <http://purl.obolibrary.org/obo/RO_0002200> <http://purl.obolibrary.org/obo/HP_0000504> .\n",
      "<http://www.ncbi.nlm.nih.gov/clinvar/variation/254143> <http://www.w3.org/2000/01/rdf-schema#label> \"C326F\" .\n",
      "<http://www.ncbi.nlm.nih.gov/clinvar/variation/254143> <http://www.w3.org/1999/02/22-rdf-syntax-ns#type> <http://purl.obolibrary.org/obo/SO_0000694> .\n",
      "<http://www.ncbi.nlm.nih.gov/clinvar/variation/254143> <http://www.geneontology.org/formats/oboInOwl#hasDbXref> <http://www.ncbi.nlm.nih.gov/projects/SNP/snp_ref.cgi?rs=886037891> .\n"
     ]
    }
   ],
   "source": [
    "import pandas as pd\n",
    "from dipper.graph.StreamedGraph import StreamedGraph\n",
    "from dipper.models.Model import Model\n",
    "from dipper.models.assoc.Association import Assoc as Association\n",
    "\n",
    "\n",
    "columns = ['variant', 'variant_label', 'variant_type',\n",
    "           'phenotype','relation', 'source', 'evidence', 'dbxref']\n",
    "\n",
    "data =  [\n",
    "    ['ClinVarVariant:254143', 'C326F', 'SO:0000694',\n",
    "     'HP:0000504','RO:0002200', 'PMID:12503095', 'ECO:0000220',\n",
    "     'dbSNP:886037891']\n",
    "]\n",
    "\n",
    "# Initialize graph and model\n",
    "graph = StreamedGraph()\n",
    "model = Model(graph)\n",
    "\n",
    "# Read file\n",
    "dataframe = pd.DataFrame(data=data, columns=columns)\n",
    "\n",
    "\n",
    "for index, row in dataframe.iterrows():\n",
    "    # The relation variant has_phenotype phenotype is automatically\n",
    "    # added when making an association (below). Added here to demo\n",
    "    # the addTriple function\n",
    "    graph.addTriple(row['variant'], row['relation'], row['phenotype'])\n",
    "    model.addLabel(row['variant'], row['variant_label'])\n",
    "    model.addType(row['variant'], row['variant_type'])\n",
    "    model.addXref(row['variant'], row['dbxref'])"
   ]
  },
  {
   "cell_type": "code",
   "execution_count": 27,
   "metadata": {
    "collapsed": false,
    "deletable": true,
    "editable": true
   },
   "outputs": [
    {
     "name": "stdout",
     "output_type": "stream",
     "text": [
      "<http://www.ncbi.nlm.nih.gov/clinvar/variation/254143> <http://purl.obolibrary.org/obo/RO_0002200> <http://purl.obolibrary.org/obo/HP_0000504> .\n",
      "<https://monarchinitiative.org/MONARCH_6898e7951a0ca42dc6c1c936424bbd4b87781baf> <http://www.w3.org/1999/02/22-rdf-syntax-ns#type> <http://purl.org/oban/association> .\n",
      "<https://monarchinitiative.org/MONARCH_6898e7951a0ca42dc6c1c936424bbd4b87781baf> <http://purl.org/oban/association_has_subject> <http://www.ncbi.nlm.nih.gov/clinvar/variation/254143> .\n",
      "<https://monarchinitiative.org/MONARCH_6898e7951a0ca42dc6c1c936424bbd4b87781baf> <http://purl.org/oban/association_has_object> <http://purl.obolibrary.org/obo/HP_0000504> .\n",
      "<https://monarchinitiative.org/MONARCH_6898e7951a0ca42dc6c1c936424bbd4b87781baf> <http://purl.org/oban/association_has_object_property> <http://purl.obolibrary.org/obo/RO_0002200> .\n",
      "<https://monarchinitiative.org/MONARCH_6898e7951a0ca42dc6c1c936424bbd4b87781baf> <http://purl.obolibrary.org/obo/RO_0002558> <http://purl.obolibrary.org/obo/ECO_0000220> .\n",
      "<https://monarchinitiative.org/MONARCH_6898e7951a0ca42dc6c1c936424bbd4b87781baf> <http://purl.org/dc/elements/1.1/source> <http://www.ncbi.nlm.nih.gov/pubmed/12503095> .\n"
     ]
    }
   ],
   "source": [
    "    association = Association(graph, 'test_source',\n",
    "                              row['variant'], row['phenotype'],\n",
    "                              row['relation'])\n",
    "    association.add_source(row['source'])\n",
    "    association.add_evidence(row['evidence'])\n",
    "    association.add_association_to_graph()"
   ]
  }
 ],
 "metadata": {
  "kernelspec": {
   "display_name": "Python 3",
   "language": "python",
   "name": "python3"
  },
  "language_info": {
   "codemirror_mode": {
    "name": "ipython",
    "version": 3
   },
   "file_extension": ".py",
   "mimetype": "text/x-python",
   "name": "python",
   "nbconvert_exporter": "python",
   "pygments_lexer": "ipython3",
   "version": "3.5.2"
  }
 },
 "nbformat": 4,
 "nbformat_minor": 0
}
