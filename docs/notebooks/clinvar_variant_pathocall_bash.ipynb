{
 "cells": [
  {
   "cell_type": "markdown",
   "metadata": {},
   "source": [
    ">Q: \n",
    "Once upon a time, I added up some results from you from ClinVar\n",
    "how many variants with no known pathogenicity\n",
    "can we update this query?\n"
   ]
  },
  {
   "cell_type": "markdown",
   "metadata": {},
   "source": [
    "The ClinVar dataset comes as gzipped xml from:  \n",
    "`ftp://ftp.ncbi.nlm.nih.gov/pub/clinvar/xml/ClinVarFullRelease_00-latest.xml.gz`    \n",
    "and we happen to have a fresh copy in `dipper/raw/clinvarxml_alpha/`  \n",
    "If we needed freah copy we would issue"
   ]
  },
  {
   "cell_type": "code",
   "execution_count": 1,
   "metadata": {
    "collapsed": true
   },
   "outputs": [],
   "source": [
    "cd ../../raw/clinvarxml_alpha\n",
    "# wget --timestamping ftp://ftp.ncbi.nlm.nih.gov/pub/clinvar/xml/ClinVarFullRelease_00-latest.xml.gz"
   ]
  },
  {
   "cell_type": "markdown",
   "metadata": {},
   "source": [
    "There are of course a number of ways to approach the question,    \n",
    "\n",
    "First what counts as variant?  \n",
    "\n",
    "-  a submitters assertion (SCV)?\n",
    "-  ClinVars interpertation of a bundle of SCVs (RCV)?\n",
    "-  a \"variant\" ID which may ocuur in multiple RCVs?\n",
    "\n",
    "\"no known pathogenicity\" is conceptually simple but the answer is supplied as freetext\n"
   ]
  },
  {
   "cell_type": "markdown",
   "metadata": {},
   "source": [
    "First isolate the bits containing the answer.\n",
    "\n",
    "- pathogenic call associated with a SCV\n",
    "- RCV assocaiated with SCV\n",
    "- variant ID associated with an RCV\n"
   ]
  },
  {
   "cell_type": "code",
   "execution_count": 7,
   "metadata": {
    "collapsed": true
   },
   "outputs": [],
   "source": [
    "# path shorteners \n",
    "CVSET=/ReleaseSet/ClinVarSet\n",
    "RCV=${CVSET}/ReferenceClinVarAssertion\n",
    "SCV=${CVSET}/ClinVarAssertion"
   ]
  },
  {
   "cell_type": "code",
   "execution_count": 8,
   "metadata": {
    "collapsed": false
   },
   "outputs": [],
   "source": [
    "# do not try this at home\n",
    "\n",
    "#xmlstarlet sel -t  \\\n",
    "# -m ${SCV} -v ClinVarAccession/@Acc -o '|' -v ClinicalSignificance/Description -o '|' -n \\\n",
    "#ClinVarFullRelease_00-latest.xml.gz   | sort > FULL_SCV_ClinicalSignificance.unl\n",
    "\n",
    "#xmlstarlet sel -t \\\n",
    "#    -m ${SCV} -v ClinVarAccession/@Acc -o \"|\" \\\n",
    "#    -v ancestor::ClinVarSet/ReferenceClinVarAssertion/ClinVarAccession/@Acc -o \"|\" -n  \\\n",
    "#ClinVarFullRelease_00-latest.xml.gz | sort > FULL_SCV_RCV.unl\n",
    "\n",
    "#xmlstarlet sel -t \n",
    "#    -m ${RCV} -v ClinVarAccession/@Acc -o \"|\" \n",
    "#    -v 'MeasureSet/@ID' -o \"|\" -n  \\\n",
    "#ClinVarFullRelease_00-latest.xml.gz | sort > FULL_RCV_VARID.unl"
   ]
  },
  {
   "cell_type": "code",
   "execution_count": 16,
   "metadata": {
    "collapsed": false
   },
   "outputs": [
    {
     "name": "stdout",
     "output_type": "stream",
     "text": [
      "-rw-r--r-- 1 tomc tomc  7589528 Mar 24 16:13 FULL_RCV_VARID.unl\n",
      "-rw-r--r-- 1 tomc tomc 12160305 Mar 26 16:33 FULL_SCV_ClinicalSignificance.unl\n",
      "-rw-r--r-- 1 tomc tomc 10967778 Mar 24 16:13 FULL_SCV_RCV.unl\n"
     ]
    }
   ],
   "source": [
    "ls -l FULL_[RS]CV_*"
   ]
  },
  {
   "cell_type": "markdown",
   "metadata": {},
   "source": [
    "see what is in the supplied freetext"
   ]
  },
  {
   "cell_type": "code",
   "execution_count": 18,
   "metadata": {
    "collapsed": false
   },
   "outputs": [
    {
     "name": "stdout",
     "output_type": "stream",
     "text": [
      " 154368 Uncertain significance\n",
      "  73853 Likely benign\n",
      "  72911 Pathogenic\n",
      "  56946 Benign\n",
      "  19980 not provided\n",
      "  14175 Likely pathogenic\n",
      "   2867 pathologic\n",
      "   1191 other\n",
      "   1161 probable-pathogenic\n",
      "   1024 cancer\n",
      "   1005 risk factor\n",
      "    921 pathogenic\n",
      "    747 unknown\n",
      "    566 drug response\n",
      "    544 untested\n",
      "    481 likely pathogenic\n",
      "    407 Unknown\n",
      "    384 benign\n",
      "    351 Likely Benign\n",
      "    293 variant of unknown significance\n",
      "    263 no known pathogenicity\n",
      "    239 Uncertain Significance\n",
      "    207 uncertain\n",
      "    190 association\n",
      "    156 likely benign\n",
      "    151 Affects\n",
      "    117 Benign/Likely benign\n",
      "     98 conflicting data from submitters\n",
      "     96 protective\n",
      "     90 Moderate\n",
      "     85 probable-non-pathogenic\n",
      "     84 non-pathogenic\n",
      "     73 Uncertain\n",
      "     28 probably not pathogenic\n",
      "     28 Associated with leiomyomas\n",
      "     25 MUT\n",
      "     20 POLY\n",
      "     17 Pathologic\n",
      "     14 likely pathogenic - adrenal pheochromocytoma\n",
      "     12 drug-response\n",
      "      9 VOUS\n",
      "      6 Pathogenic/Likely pathogenic\n",
      "      5 Unknown significance\n",
      "      5 likely pathogenic - adrenal bilateral pheochromocy\n",
      "      3 VLM\n",
      "      3 unknown significance\n",
      "      3 pathogenic variant for Bardet-Biedl Syndrome\n",
      "      3 \n",
      "      2 VSB\n",
      "      2 Suspected Pathogenic\n",
      "      2 probably pathogenic\n",
      "      1 Suspected Benign\n",
      "      1 HSCR variant\n",
      "      1 confers sensitivity\n"
     ]
    }
   ],
   "source": [
    "cut -f2 -d\\| FULL_SCV_ClinicalSignificance.unl | sort | uniq -c | sort -nr"
   ]
  },
  {
   "cell_type": "markdown",
   "metadata": {},
   "source": [
    "We have a mapping of most of these in Clinvar translation table and should add the new ones  \n",
    "I am isolating them for this query.  "
   ]
  },
  {
   "cell_type": "code",
   "execution_count": 24,
   "metadata": {
    "collapsed": false
   },
   "outputs": [
    {
     "name": "stdout",
     "output_type": "stream",
     "text": [
      "Benign\t\t\t\t\t\t\t\tbenign\n",
      "conflicting data from submitters\tuncertain significance\n",
      "Likely benign\t\t\t\t\t\tlikely benign\n",
      "Likely Benign\t\t\t\t\t\tlikely benign\n",
      "likely pathogenic\t\t\t\t\tlikely pathogenic\n",
      "Likely pathogenic\t\t\t\t\tlikely pathogenic\n",
      "no known pathogenicity\t\t\t\tuncertain significance\n",
      "non-pathogenic\t\t\t\t\t\tuncertain significance\n",
      "pathogenic\t\t\t\t\t\t\tpathogenic\n",
      "Pathogenic\t\t\t\t\t\t\tpathogenic\n",
      "Pathogenic/Likely pathogenic\t\tpathogenic\n",
      "pathologic\t\t\t\t\t\t\tpathogenic\n",
      "probable-non-pathogenic\t\t\t\tlikely benign\n",
      "probable-pathogenic\t\t\t\t\tlikely pathogenic\n",
      "probably pathogenic\t\t\t\t\tlikely pathogenic\n",
      "probably not pathogenic\t\t\t\tlikely benign\n",
      "Suspected Benign\t\t\t\t\tlikely benign\n",
      "Suspected Pathogenic\t\t\t\tlikely pathogenic\n",
      "uncertain\t\t\t\t\t\t\tuncertain significance\n",
      "Uncertain\t\t\t\t\t\t\tuncertain significance\n",
      "Uncertain significance\t\t\t\tuncertain significance\n",
      "Uncertain Significance\t\t\t\tuncertain significance\n",
      "unknown\t\t\t\t\t\t\t\tuncertain significance\n",
      "Unknown\t\t\t\t\t\t\t\tuncertain significance\n",
      "variant of unknown significance\t\tuncertain significance\n",
      "MUT\t\t\t\t\t\t\t\t\tuncertain significance\n",
      "Unknown significance\t\t\t\tuncertain significance\n",
      "likely pathogenic - adrenal pheochromocytoma\tlikely pathogenic\n",
      "pathogenic variant for Bardet-Biedl Syndrome\tpathogenic\n",
      "untested\t\t\t\t\t\t\tuncertain significance\n",
      "other\t\t\t\t\t\t\t\tuncertain significance\n",
      "not provided\t\t\t\t\t\tuncertain significance\n",
      "cancer\t\t\t\t\t\t\t\tpathogenic\n",
      "risk factor\t\t\t\t\t\t\tlikely pathogenic\n",
      "drug response\t\t\t\t\t\tuncertain significance\n",
      "drug-response\t\t\t\t\t\tuncertain significance\n",
      "association\t\t\t\t\t\t\tuncertain significance\n",
      "Affects\t\t\t\t\t\t\t\tuncertain significance\n",
      "Moderate\t\t\t\t\t\t\tuncertain significance\n",
      "protective\t\t\t\t\t\t\tlikely benign\n",
      "unknown significance\t\t\t\tuncertain significance\n",
      "likely pathogenic - adrenal bilateral pheochromocy\tlikely pathogenic\n",
      "Associated with leiomyomas\t\t\tlikely benign\n",
      "benign\t\t\t\t\t\t\t\tbenign\n",
      "Benign/Likely benign\t\t\t\tbenign\n",
      "likely benign\t\t\t\t\t\tlikely benign\n",
      "##################\t\t\t\t\t##########################\n",
      "confers sensitivity\t\t\t\t\tuncertain significance\n",
      "Pathologic\t\t\t\t\t\t\tuncertain significance\n",
      "HSCR variant\t\t\t\t\t\tuncertain significance\n",
      "POLY\t\t\t\t\t\t\t\tuncertain significance\n",
      "VLM\t\t\t\t\t\t\t\t\tuncertain significance\n",
      "VOUS\t\t\t\t\t\t\t\tuncertain significance\n",
      "VSB\t\t\t\t\t\t\t\t\tuncertain significance\n",
      "\n"
     ]
    }
   ],
   "source": [
    "cat patho_label.map"
   ]
  },
  {
   "cell_type": "markdown",
   "metadata": {},
   "source": [
    "The last half dozen or so are SWAG,  \n",
    "maybe someone has better info on there classification.  \n",
    "\n",
    "Convert the freetext pathogenic call to its classification:"
   ]
  },
  {
   "cell_type": "code",
   "execution_count": 2,
   "metadata": {
    "collapsed": false
   },
   "outputs": [
    {
     "name": "stdout",
     "output_type": "stream",
     "text": [
      "==> patho_label.txt <==\n",
      "Benign\tbenign\n",
      "conflicting data from submitters\tuncertain significance\n",
      "Likely benign\tlikely benign\n",
      "Likely Benign\tlikely benign\n",
      "likely pathogenic\tlikely pathogenic\n",
      "Likely pathogenic\tlikely pathogenic\n",
      "no known pathogenicity\tuncertain significance\n",
      "non-pathogenic\tuncertain significance\n",
      "pathogenic\tpathogenic\n",
      "Pathogenic\tpathogenic\n",
      "\n",
      "==> SCV_ClinicalSignificance.txt <==\n",
      "SCV000020145\tPathogenic\t\n",
      "SCV000020146\tPathogenic\t\n",
      "SCV000020147\tPathogenic\t\n",
      "SCV000020148\tBenign\t\n",
      "SCV000020149\tPathogenic\t\n",
      "SCV000020150\tprotective\t\n",
      "SCV000020151\tassociation\t\n",
      "SCV000020152\tPathogenic\t\n",
      "SCV000020153\tPathogenic\t\n",
      "SCV000020154\trisk factor\t\n"
     ]
    }
   ],
   "source": [
    "# head patho_label.map FULL_SCV_ClinicalSignificance.unl\n",
    "\n",
    "tr -s '\\t' < patho_label.map > patho_label.txt\n",
    "tr '|' '\\t' < FULL_SCV_ClinicalSignificance.unl > SCV_ClinicalSignificance.txt\n",
    "\n",
    "head patho_label.txt  SCV_ClinicalSignificance.txt"
   ]
  },
  {
   "cell_type": "code",
   "execution_count": 40,
   "metadata": {
    "collapsed": false
   },
   "outputs": [],
   "source": [
    "awk -F'\\t' 'NR==FNR{p[$1]=$2}NR!=FNR{print $1,p[$2]}' \\\n",
    " patho_label.txt SCV_ClinicalSignificance.txt > SCV_class.txt"
   ]
  },
  {
   "cell_type": "code",
   "execution_count": 42,
   "metadata": {
    "collapsed": false
   },
   "outputs": [
    {
     "name": "stdout",
     "output_type": "stream",
     "text": [
      "SCV000020145 pathogenic\n",
      "SCV000020146 pathogenic\n",
      "SCV000020147 pathogenic\n",
      "SCV000020148 benign\n",
      "SCV000020149 pathogenic\n",
      "SCV000020150 likely benign\n",
      "SCV000020151 uncertain significance\n",
      "SCV000020152 pathogenic\n",
      "SCV000020153 pathogenic\n",
      "SCV000020154 likely pathogenic\n"
     ]
    }
   ],
   "source": [
    "head SCV_class.txt"
   ]
  },
  {
   "cell_type": "code",
   "execution_count": 44,
   "metadata": {
    "collapsed": false
   },
   "outputs": [
    {
     "name": "stdout",
     "output_type": "stream",
     "text": [
      "406214 SCV_class.txt\n",
      "311637\n"
     ]
    }
   ],
   "source": [
    "wc -l SCV_class.txt\n",
    "grep -cv  pathogenic SCV_class.txt"
   ]
  },
  {
   "cell_type": "markdown",
   "metadata": {},
   "source": [
    "~75% of the records submitted to Clinvar (SCV) we would not classify as pathogenic."
   ]
  },
  {
   "cell_type": "code",
   "execution_count": 47,
   "metadata": {
    "collapsed": false
   },
   "outputs": [],
   "source": [
    "tr '|' '\\t' < FULL_SCV_RCV.unl > SCV_RCV.txt"
   ]
  },
  {
   "cell_type": "code",
   "execution_count": 26,
   "metadata": {
    "collapsed": false
   },
   "outputs": [],
   "source": [
    "join -j1 -o 2.2,1.2 1.3 SCV_class.txt SCV_RCV.txt | sort> RCV_class.txt"
   ]
  },
  {
   "cell_type": "code",
   "execution_count": 27,
   "metadata": {
    "collapsed": false
   },
   "outputs": [
    {
     "name": "stdout",
     "output_type": "stream",
     "text": [
      "RCV000000002 pathogenic \n",
      "RCV000000003 pathogenic \n",
      "RCV000000004 pathogenic \n",
      "RCV000000005 benign \n",
      "RCV000000006 pathogenic \n",
      "RCV000000007 likely benign\n",
      "RCV000000008 uncertain significance\n",
      "RCV000000009 pathogenic \n",
      "RCV000000010 pathogenic \n",
      "RCV000000011 likely pathogenic\n"
     ]
    }
   ],
   "source": [
    "head RCV_class.txt"
   ]
  },
  {
   "cell_type": "code",
   "execution_count": 28,
   "metadata": {
    "collapsed": false
   },
   "outputs": [
    {
     "name": "stdout",
     "output_type": "stream",
     "text": [
      "406214\n"
     ]
    }
   ],
   "source": [
    "#  How many RCV-call combinations\n",
    "wc -l < RCV_class.txt  "
   ]
  },
  {
   "cell_type": "code",
   "execution_count": 29,
   "metadata": {
    "collapsed": false
   },
   "outputs": [
    {
     "name": "stdout",
     "output_type": "stream",
     "text": [
      "377430\n"
     ]
    }
   ],
   "source": [
    "#  How many distinct RCV-call combinations\n",
    "sort -u RCV_class.txt | wc -l"
   ]
  },
  {
   "cell_type": "code",
   "execution_count": 46,
   "metadata": {
    "collapsed": false
   },
   "outputs": [
    {
     "name": "stdout",
     "output_type": "stream",
     "text": [
      "92.900\n"
     ]
    }
   ],
   "source": [
    "echo \"scale=3;(377430 / 406214* 100)\" | bc "
   ]
  },
  {
   "cell_type": "code",
   "execution_count": null,
   "metadata": {
    "collapsed": true
   },
   "outputs": [],
   "source": [
    "About 7% of the calls Clinvar bundles together are perfectly redundant, or faithful reproductions."
   ]
  },
  {
   "cell_type": "code",
   "execution_count": 47,
   "metadata": {
    "collapsed": false
   },
   "outputs": [
    {
     "name": "stdout",
     "output_type": "stream",
     "text": [
      "377430\n"
     ]
    }
   ],
   "source": [
    "cut -f1 RCV_class.txt | sort -u | wc -l"
   ]
  },
  {
   "cell_type": "markdown",
   "metadata": {},
   "source": [
    "This is saying than none of the RCV are composed of disagreeing calls.  \n",
    "I am taking this result with a grain of salt. They may have split apart  \n",
    "conflicting calls in the last year, Or maybe I have made a mistake,  \n",
    "but for now they are looking more consistant than a year ago.  \n",
    "\n",
    "If they did break up RCV into agreeing calls then it will have to be the \n",
    "variant ID which matters. \n"
   ]
  },
  {
   "cell_type": "code",
   "execution_count": 49,
   "metadata": {
    "collapsed": false
   },
   "outputs": [
    {
     "name": "stdout",
     "output_type": "stream",
     "text": [
      "94577\n"
     ]
    }
   ],
   "source": [
    "grep -c pathogenic RCV_class.txt"
   ]
  },
  {
   "cell_type": "code",
   "execution_count": 81,
   "metadata": {
    "collapsed": false
   },
   "outputs": [
    {
     "name": "stdout",
     "output_type": "stream",
     "text": [
      "82798\n"
     ]
    }
   ],
   "source": [
    "grep pathogenic RCV_class.txt |cut -f1 | sort -u | wc -l"
   ]
  },
  {
   "cell_type": "code",
   "execution_count": 78,
   "metadata": {
    "collapsed": false
   },
   "outputs": [
    {
     "name": "stdout",
     "output_type": "stream",
     "text": [
      "23.200\n",
      "21.900\n",
      "87.500\n"
     ]
    }
   ],
   "source": [
    "\n",
    "echo \"scale=3;(94577 / 406214 * 100)\" | bc \n",
    "echo \"scale=3;(82798 / 377430 * 100)\" | bc \n",
    "echo \"scale=3;(82798 / 94577 * 100)\" | bc "
   ]
  },
  {
   "cell_type": "markdown",
   "metadata": {},
   "source": [
    "86.8% of all RCV have no pathogenic classification \n",
    "88.1% of the unique RCV have no pathogenic classification\n",
    "\n",
    "About 12.5% of the pathogenic call have some replication."
   ]
  },
  {
   "cell_type": "code",
   "execution_count": 64,
   "metadata": {
    "collapsed": false
   },
   "outputs": [
    {
     "name": "stdout",
     "output_type": "stream",
     "text": [
      "311637 406214 76.7174\n"
     ]
    }
   ],
   "source": [
    "awk  '$NF!=\"pathogenic\"{p++}{c++}END{print p, c, p/c*100}' RCV_class.txt"
   ]
  },
  {
   "cell_type": "markdown",
   "metadata": {},
   "source": [
    "(Without collapsing RCV this just recapiulates the SCV counts)"
   ]
  },
  {
   "cell_type": "code",
   "execution_count": 12,
   "metadata": {
    "collapsed": false
   },
   "outputs": [],
   "source": [
    "tr '|' '\\t' <  FULL_RCV_VARID.unl | sort > RCV_VARID.txt"
   ]
  },
  {
   "cell_type": "code",
   "execution_count": 69,
   "metadata": {
    "collapsed": false
   },
   "outputs": [],
   "source": [
    "join -j1 -o 1.2,2.2,2.3 RCV_VARID.txt RCV_class.txt |sort -n > VID_class.txt"
   ]
  },
  {
   "cell_type": "code",
   "execution_count": 71,
   "metadata": {
    "collapsed": false
   },
   "outputs": [
    {
     "name": "stdout",
     "output_type": "stream",
     "text": [
      "2 pathogenic \n",
      "3 pathogenic \n",
      "4 uncertain significance\n",
      "5 pathogenic \n",
      "6 pathogenic \n",
      "7 pathogenic \n",
      "7 pathogenic \n",
      "8 pathogenic \n",
      "9 benign \n",
      "9 likely pathogenic\n"
     ]
    }
   ],
   "source": [
    "head VID_class.txt"
   ]
  },
  {
   "cell_type": "code",
   "execution_count": 73,
   "metadata": {
    "collapsed": false
   },
   "outputs": [
    {
     "name": "stdout",
     "output_type": "stream",
     "text": [
      "406214\n"
     ]
    }
   ],
   "source": [
    "wc -l < VID_class.txt"
   ]
  },
  {
   "cell_type": "code",
   "execution_count": 77,
   "metadata": {
    "collapsed": false
   },
   "outputs": [
    {
     "name": "stdout",
     "output_type": "stream",
     "text": [
      "268916\n"
     ]
    }
   ],
   "source": [
    "cut -f1 -d ' ' VID_class.txt | sort -u | wc -l "
   ]
  },
  {
   "cell_type": "code",
   "execution_count": 79,
   "metadata": {
    "collapsed": false
   },
   "outputs": [
    {
     "name": "stdout",
     "output_type": "stream",
     "text": [
      "206300\n"
     ]
    }
   ],
   "source": [
    "grep -v pathogenic VID_class.txt | cut -f1 -d ' ' | sort -u | wc -l "
   ]
  },
  {
   "cell_type": "code",
   "execution_count": 80,
   "metadata": {
    "collapsed": false
   },
   "outputs": [
    {
     "name": "stdout",
     "output_type": "stream",
     "text": [
      "76.700\n"
     ]
    }
   ],
   "source": [
    "echo \"scale=3;(206300 / 268916 * 100)\" | bc "
   ]
  },
  {
   "cell_type": "code",
   "execution_count": 82,
   "metadata": {
    "collapsed": false
   },
   "outputs": [
    {
     "name": "stdout",
     "output_type": "stream",
     "text": [
      "653\n"
     ]
    }
   ],
   "source": [
    " sort -u VID_class.txt | awk '$NF==\"pathogenic\"{a[$1]=or(1,a[$1])}$NF==\"benign\"{a[$1]=or(2,a[$1])}END{for(v in a){if(a[v]>2)print v}}' | wc -l"
   ]
  },
  {
   "cell_type": "markdown",
   "metadata": {},
   "source": [
    "*Note these conflicts do not involve uncertain calls*"
   ]
  },
  {
   "cell_type": "markdown",
   "metadata": {},
   "source": [
    "So far we have  \n",
    "\n",
    "- 406,214 unique SCV   no  conflicting calls  76.7% non pathogenic\n",
    "- 377,430 unique RCV   no  conflicting calls  88.1% non pathogenic\n",
    "- 268,916 unique VID   653 conflicting calls  76.7% non pathogenic \n",
    "\n",
    "(* note the two 76.7% are via completly different pairs numbers more than 100k apart *)\n"
   ]
  }
 ],
 "metadata": {
  "kernelspec": {
   "display_name": "Bash",
   "language": "bash",
   "name": "bash"
  },
  "language_info": {
   "codemirror_mode": "shell",
   "file_extension": ".sh",
   "mimetype": "text/x-sh",
   "name": "bash"
  }
 },
 "nbformat": 4,
 "nbformat_minor": 2
}
